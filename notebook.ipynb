{
 "cells": [
  {
   "cell_type": "code",
   "execution_count": 1,
   "id": "27777ff7",
   "metadata": {},
   "outputs": [
    {
     "name": "stdout",
     "output_type": "stream",
     "text": [
      "Requirement already satisfied: tensorflow in c:\\users\\abhin\\anaconda3\\lib\\site-packages (2.5.0)\n",
      "Requirement already satisfied: flatbuffers~=1.12.0 in c:\\users\\abhin\\anaconda3\\lib\\site-packages (from tensorflow) (1.12)\n",
      "Requirement already satisfied: opt-einsum~=3.3.0 in c:\\users\\abhin\\anaconda3\\lib\\site-packages (from tensorflow) (3.3.0)\n",
      "Requirement already satisfied: protobuf>=3.9.2 in c:\\users\\abhin\\anaconda3\\lib\\site-packages (from tensorflow) (3.17.1)\n",
      "Requirement already satisfied: tensorflow-estimator<2.6.0,>=2.5.0rc0 in c:\\users\\abhin\\anaconda3\\lib\\site-packages (from tensorflow) (2.5.0)\n",
      "Requirement already satisfied: absl-py~=0.10 in c:\\users\\abhin\\anaconda3\\lib\\site-packages (from tensorflow) (0.13.0)\n",
      "Requirement already satisfied: google-pasta~=0.2 in c:\\users\\abhin\\anaconda3\\lib\\site-packages (from tensorflow) (0.2.0)\n",
      "Requirement already satisfied: keras-nightly~=2.5.0.dev in c:\\users\\abhin\\anaconda3\\lib\\site-packages (from tensorflow) (2.5.0.dev2021032900)\n",
      "Requirement already satisfied: termcolor~=1.1.0 in c:\\users\\abhin\\anaconda3\\lib\\site-packages (from tensorflow) (1.1.0)\n",
      "Requirement already satisfied: h5py~=3.1.0 in c:\\users\\abhin\\anaconda3\\lib\\site-packages (from tensorflow) (3.1.0)\n",
      "Requirement already satisfied: wrapt~=1.12.1 in c:\\users\\abhin\\anaconda3\\lib\\site-packages (from tensorflow) (1.12.1)\n",
      "Requirement already satisfied: grpcio~=1.34.0 in c:\\users\\abhin\\anaconda3\\lib\\site-packages (from tensorflow) (1.34.1)\n",
      "Requirement already satisfied: numpy~=1.19.2 in c:\\users\\abhin\\anaconda3\\lib\\site-packages (from tensorflow) (1.19.5)\n",
      "Requirement already satisfied: wheel~=0.35 in c:\\users\\abhin\\anaconda3\\lib\\site-packages (from tensorflow) (0.36.2)\n",
      "Requirement already satisfied: typing-extensions~=3.7.4 in c:\\users\\abhin\\anaconda3\\lib\\site-packages (from tensorflow) (3.7.4.3)\n",
      "Requirement already satisfied: six~=1.15.0 in c:\\users\\abhin\\anaconda3\\lib\\site-packages (from tensorflow) (1.15.0)\n",
      "Requirement already satisfied: astunparse~=1.6.3 in c:\\users\\abhin\\anaconda3\\lib\\site-packages (from tensorflow) (1.6.3)\n",
      "Requirement already satisfied: tensorboard~=2.5 in c:\\users\\abhin\\anaconda3\\lib\\site-packages (from tensorflow) (2.6.0)\n",
      "Requirement already satisfied: gast==0.4.0 in c:\\users\\abhin\\anaconda3\\lib\\site-packages (from tensorflow) (0.4.0)\n",
      "Requirement already satisfied: keras-preprocessing~=1.1.2 in c:\\users\\abhin\\anaconda3\\lib\\site-packages (from tensorflow) (1.1.2)\n",
      "Requirement already satisfied: requests<3,>=2.21.0 in c:\\users\\abhin\\anaconda3\\lib\\site-packages (from tensorboard~=2.5->tensorflow) (2.25.1)\n",
      "Requirement already satisfied: google-auth<2,>=1.6.3 in c:\\users\\abhin\\anaconda3\\lib\\site-packages (from tensorboard~=2.5->tensorflow) (1.34.0)\n",
      "Requirement already satisfied: markdown>=2.6.8 in c:\\users\\abhin\\anaconda3\\lib\\site-packages (from tensorboard~=2.5->tensorflow) (3.3.4)\n",
      "Requirement already satisfied: google-auth-oauthlib<0.5,>=0.4.1 in c:\\users\\abhin\\anaconda3\\lib\\site-packages (from tensorboard~=2.5->tensorflow) (0.4.5)\n",
      "Requirement already satisfied: tensorboard-data-server<0.7.0,>=0.6.0 in c:\\users\\abhin\\anaconda3\\lib\\site-packages (from tensorboard~=2.5->tensorflow) (0.6.1)\n",
      "Requirement already satisfied: setuptools>=41.0.0 in c:\\users\\abhin\\anaconda3\\lib\\site-packages (from tensorboard~=2.5->tensorflow) (52.0.0.post20210125)\n",
      "Requirement already satisfied: tensorboard-plugin-wit>=1.6.0 in c:\\users\\abhin\\anaconda3\\lib\\site-packages (from tensorboard~=2.5->tensorflow) (1.8.0)\n",
      "Requirement already satisfied: werkzeug>=0.11.15 in c:\\users\\abhin\\anaconda3\\lib\\site-packages (from tensorboard~=2.5->tensorflow) (1.0.1)\n",
      "Requirement already satisfied: pyasn1-modules>=0.2.1 in c:\\users\\abhin\\anaconda3\\lib\\site-packages (from google-auth<2,>=1.6.3->tensorboard~=2.5->tensorflow) (0.2.8)\n",
      "Requirement already satisfied: rsa<5,>=3.1.4 in c:\\users\\abhin\\anaconda3\\lib\\site-packages (from google-auth<2,>=1.6.3->tensorboard~=2.5->tensorflow) (4.7.2)\n",
      "Requirement already satisfied: cachetools<5.0,>=2.0.0 in c:\\users\\abhin\\anaconda3\\lib\\site-packages (from google-auth<2,>=1.6.3->tensorboard~=2.5->tensorflow) (4.2.2)\n",
      "Requirement already satisfied: requests-oauthlib>=0.7.0 in c:\\users\\abhin\\anaconda3\\lib\\site-packages (from google-auth-oauthlib<0.5,>=0.4.1->tensorboard~=2.5->tensorflow) (1.3.0)\n",
      "Requirement already satisfied: pyasn1<0.5.0,>=0.4.6 in c:\\users\\abhin\\anaconda3\\lib\\site-packages (from pyasn1-modules>=0.2.1->google-auth<2,>=1.6.3->tensorboard~=2.5->tensorflow) (0.4.8)\n",
      "Requirement already satisfied: chardet<5,>=3.0.2 in c:\\users\\abhin\\anaconda3\\lib\\site-packages (from requests<3,>=2.21.0->tensorboard~=2.5->tensorflow) (4.0.0)\n",
      "Requirement already satisfied: idna<3,>=2.5 in c:\\users\\abhin\\anaconda3\\lib\\site-packages (from requests<3,>=2.21.0->tensorboard~=2.5->tensorflow) (2.10)\n",
      "Requirement already satisfied: urllib3<1.27,>=1.21.1 in c:\\users\\abhin\\anaconda3\\lib\\site-packages (from requests<3,>=2.21.0->tensorboard~=2.5->tensorflow) (1.26.4)\n",
      "Requirement already satisfied: certifi>=2017.4.17 in c:\\users\\abhin\\anaconda3\\lib\\site-packages (from requests<3,>=2.21.0->tensorboard~=2.5->tensorflow) (2020.12.5)\n",
      "Requirement already satisfied: oauthlib>=3.0.0 in c:\\users\\abhin\\anaconda3\\lib\\site-packages (from requests-oauthlib>=0.7.0->google-auth-oauthlib<0.5,>=0.4.1->tensorboard~=2.5->tensorflow) (3.1.1)\n"
     ]
    }
   ],
   "source": [
    "!pip install tensorflow\n",
    "import tensorflow as tf"
   ]
  },
  {
   "cell_type": "code",
   "execution_count": 2,
   "id": "e0e7ea7c",
   "metadata": {},
   "outputs": [],
   "source": [
    "from tensorflow.keras import datasets,layers,models"
   ]
  },
  {
   "cell_type": "code",
   "execution_count": 3,
   "id": "6c10a0a3",
   "metadata": {},
   "outputs": [],
   "source": [
    "import matplotlib.pyplot as plt"
   ]
  },
  {
   "cell_type": "code",
   "execution_count": 4,
   "id": "d7728188",
   "metadata": {},
   "outputs": [],
   "source": [
    "import numpy as np"
   ]
  },
  {
   "cell_type": "code",
   "execution_count": 5,
   "id": "0d6cc223",
   "metadata": {},
   "outputs": [],
   "source": [
    "(x_train2 , y_train2),(x_test2 , y_test2) =datasets.cifar10.load_data()"
   ]
  },
  {
   "cell_type": "code",
   "execution_count": 6,
   "id": "6a926bf0",
   "metadata": {},
   "outputs": [
    {
     "name": "stdout",
     "output_type": "stream",
     "text": [
      "(10000, 1)\n"
     ]
    },
    {
     "data": {
      "text/plain": [
       "(50000, 32, 32, 3)"
      ]
     },
     "execution_count": 6,
     "metadata": {},
     "output_type": "execute_result"
    }
   ],
   "source": [
    "print(y_test2.shape)\n",
    "x_train2.shape"
   ]
  },
  {
   "cell_type": "code",
   "execution_count": 7,
   "id": "0dfa6bc8",
   "metadata": {},
   "outputs": [
    {
     "data": {
      "text/plain": [
       "<matplotlib.image.AxesImage at 0x1482025da90>"
      ]
     },
     "execution_count": 7,
     "metadata": {},
     "output_type": "execute_result"
    },
    {
     "data": {
      "image/png": "[encoded data removed]",
      "text/plain": [
       "<Figure size 432x288 with 1 Axes>"
      ]
     },
     "metadata": {
      "needs_background": "light"
     },
     "output_type": "display_data"
    }
   ],
   "source": [
    "plt.imshow(x_train2[1])"
   ]
  },
  {
   "cell_type": "code",
   "execution_count": 8,
   "id": "08740efa",
   "metadata": {},
   "outputs": [
    {
     "data": {
      "text/plain": [
       "<matplotlib.image.AxesImage at 0x14820337c70>"
      ]
     },
     "execution_count": 8,
     "metadata": {},
     "output_type": "execute_result"
    },
    {
     "data": {
      "image/png": "[encoded data removed]",
      "text/plain": [
       "<Figure size 432x288 with 1 Axes>"
      ]
     },
     "metadata": {
      "needs_background": "light"
     },
     "output_type": "display_data"
    }
   ],
   "source": [
    "plt.imshow(x_test2[1])"
   ]
  },
  {
   "cell_type": "code",
   "execution_count": 9,
   "id": "9952912b",
   "metadata": {},
   "outputs": [],
   "source": [
    "y_train2 = y_train2.reshape(-1,)\n",
    "y_test2 = y_test2.reshape(-1,)"
   ]
  },
  {
   "cell_type": "code",
   "execution_count": 10,
   "id": "29cb4622",
   "metadata": {},
   "outputs": [
    {
     "data": {
      "text/plain": [
       "array([3, 8, 8, ..., 5, 1, 7], dtype=uint8)"
      ]
     },
     "execution_count": 10,
     "metadata": {},
     "output_type": "execute_result"
    }
   ],
   "source": [
    "y_test2"
   ]
  },
  {
   "cell_type": "code",
   "execution_count": 11,
   "id": "03be108c",
   "metadata": {},
   "outputs": [
    {
     "data": {
      "text/plain": [
       "array([6, 9, 9, ..., 9, 1, 1], dtype=uint8)"
      ]
     },
     "execution_count": 11,
     "metadata": {},
     "output_type": "execute_result"
    }
   ],
   "source": [
    "y_train2  "
   ]
  },
  {
   "cell_type": "code",
   "execution_count": 12,
   "id": "6dd93a91",
   "metadata": {},
   "outputs": [],
   "source": [
    "x_train=x_train2[:1018]\n",
    "y_train=y_train2[:1018]"
   ]
  },
  {
   "cell_type": "code",
   "execution_count": 13,
   "id": "03a2871e",
   "metadata": {},
   "outputs": [
    {
     "data": {
      "text/plain": [
       "array([6, 9, 9, ..., 5, 6, 6], dtype=uint8)"
      ]
     },
     "execution_count": 13,
     "metadata": {},
     "output_type": "execute_result"
    }
   ],
   "source": [
    "y_train.shape\n",
    "y_train"
   ]
  },
  {
   "cell_type": "code",
   "execution_count": 14,
   "id": "57d549ca",
   "metadata": {},
   "outputs": [],
   "source": [
    "\n",
    "count=0\n",
    "for i in range(5000):\n",
    "    if y_train2[i]==9 or y_train2[i]==8 :\n",
    "        x_train[count]=x_train2[i]\n",
    "        y_train[count]=y_train2[i]\n",
    "        count=count+1"
   ]
  },
  {
   "cell_type": "code",
   "execution_count": null,
   "id": "b491bbf3",
   "metadata": {},
   "outputs": [],
   "source": []
  },
  {
   "cell_type": "code",
   "execution_count": 16,
   "id": "acba3d65",
   "metadata": {},
   "outputs": [],
   "source": [
    "x_test=x_test2[:215]\n",
    "y_test=y_test2[:215]\n",
    "count=0\n",
    "for i in range(1000):\n",
    "    if y_test2[i]==9 or y_test2[i]==8 :\n",
    "        x_test[count]=x_test2[i]\n",
    "        y_test[count]=y_test2[i]\n",
    "        count=count+1"
   ]
  },
  {
   "cell_type": "code",
   "execution_count": 17,
   "id": "ed707fa4",
   "metadata": {},
   "outputs": [
    {
     "name": "stdout",
     "output_type": "stream",
     "text": [
      "(1018,)\n"
     ]
    },
    {
     "data": {
      "text/plain": [
       "(1018, 32, 32, 3)"
      ]
     },
     "execution_count": 17,
     "metadata": {},
     "output_type": "execute_result"
    }
   ],
   "source": [
    "print(y_train.shape)\n",
    "x_train.shape"
   ]
  },
  {
   "cell_type": "code",
   "execution_count": 18,
   "id": "dc73f0be",
   "metadata": {},
   "outputs": [
    {
     "data": {
      "text/plain": [
       "array([9, 9, 8, ..., 8, 9, 8], dtype=uint8)"
      ]
     },
     "execution_count": 18,
     "metadata": {},
     "output_type": "execute_result"
    }
   ],
   "source": [
    "y_train"
   ]
  },
  {
   "cell_type": "code",
   "execution_count": 19,
   "id": "6fe95690",
   "metadata": {},
   "outputs": [
    {
     "data": {
      "text/plain": [
       "(215, 32, 32, 3)"
      ]
     },
     "execution_count": 19,
     "metadata": {},
     "output_type": "execute_result"
    }
   ],
   "source": [
    "x_test.shape"
   ]
  },
  {
   "cell_type": "code",
   "execution_count": 20,
   "id": "c427b895",
   "metadata": {},
   "outputs": [],
   "source": [
    "for i in range(215):\n",
    "    if y_test[i]==8:\n",
    "        y_test[i]=0\n",
    "    else:\n",
    "        y_test[i]=1 "
   ]
  },
  {
   "cell_type": "code",
   "execution_count": 21,
   "id": "5a99f6ee",
   "metadata": {},
   "outputs": [],
   "source": [
    "for i in range(1018):\n",
    "    if y_train[i]==8:\n",
    "        y_train[i]=0\n",
    "    else:\n",
    "        y_train[i]=1 "
   ]
  },
  {
   "cell_type": "code",
   "execution_count": 22,
   "id": "c4fa8e25",
   "metadata": {},
   "outputs": [
    {
     "data": {
      "text/plain": [
       "array([0, 0, 1, 1, 0, 0, 1, 1, 1, 1, 1, 1, 1, 0, 0, 0, 0, 0, 1, 0, 0, 0,\n",
       "       1, 0, 0, 0, 0, 0, 0, 1, 1, 1, 0, 0, 1, 1, 0, 0, 1, 1, 1, 0, 1, 1,\n",
       "       0, 0, 0, 0, 0, 0, 1, 1, 0, 1, 0, 1, 1, 0, 0, 0, 1, 1, 1, 1, 1, 0,\n",
       "       0, 0, 1, 1, 1, 1, 0, 0, 0, 1, 1, 0, 0, 0, 1, 1, 0, 1, 0, 1, 0, 1,\n",
       "       1, 1, 0, 1, 1, 0, 0, 0, 0, 1, 1, 1, 1, 1, 1, 1, 0, 0, 0, 0, 1, 1,\n",
       "       1, 0, 0, 1, 1, 1, 0, 1, 0, 1, 1, 1, 1, 0, 1, 1, 1, 0, 1, 0, 1, 0,\n",
       "       1, 1, 0, 1, 1, 0, 0, 0, 1, 1, 0, 0, 1, 1, 1, 1, 0, 1, 1, 0, 1, 1,\n",
       "       0, 0, 0, 1, 0, 0, 0, 0, 0, 1, 0, 0, 0, 1, 1, 1, 1, 1, 0, 1, 1, 0,\n",
       "       0, 0, 1, 0, 0, 1, 1, 0, 1, 0, 0, 0, 1, 0, 0, 0, 0, 0, 1, 1, 1, 0,\n",
       "       1, 0, 1, 0, 1, 0, 1, 1, 1, 1, 0, 1, 1, 0, 0, 0, 0], dtype=uint8)"
      ]
     },
     "execution_count": 22,
     "metadata": {},
     "output_type": "execute_result"
    }
   ],
   "source": [
    "y_test"
   ]
  },
  {
   "cell_type": "code",
   "execution_count": 23,
   "id": "156c5203",
   "metadata": {},
   "outputs": [
    {
     "data": {
      "text/plain": [
       "array([1, 1, 0, ..., 0, 1, 0], dtype=uint8)"
      ]
     },
     "execution_count": 23,
     "metadata": {},
     "output_type": "execute_result"
    }
   ],
   "source": [
    "y_train"
   ]
  },
  {
   "cell_type": "code",
   "execution_count": 24,
   "id": "92139353",
   "metadata": {},
   "outputs": [
    {
     "data": {
      "text/plain": [
       "<matplotlib.image.AxesImage at 0x1482054f160>"
      ]
     },
     "execution_count": 24,
     "metadata": {},
     "output_type": "execute_result"
    },
    {
     "data": {
      "image/png": "[encoded data removed]",
      "text/plain": [
       "<Figure size 432x288 with 1 Axes>"
      ]
     },
     "metadata": {
      "needs_background": "light"
     },
     "output_type": "display_data"
    }
   ],
   "source": [
    "plt.imshow(x_test[0])\n",
    "\n"
   ]
  },
  {
   "cell_type": "code",
   "execution_count": 25,
   "id": "685c1568",
   "metadata": {},
   "outputs": [
    {
     "data": {
      "text/plain": [
       "<matplotlib.image.AxesImage at 0x148205a5580>"
      ]
     },
     "execution_count": 25,
     "metadata": {},
     "output_type": "execute_result"
    },
    {
     "data": {
      "image/png": "[encoded data removed]",
      "text/plain": [
       "<Figure size 432x288 with 1 Axes>"
      ]
     },
     "metadata": {
      "needs_background": "light"
     },
     "output_type": "display_data"
    }
   ],
   "source": [
    "plt.imshow(x_train[0])"
   ]
  },
  {
   "cell_type": "code",
   "execution_count": 26,
   "id": "3748491e",
   "metadata": {},
   "outputs": [],
   "source": [
    "x_train =x_train/255\n",
    "x_test =x_test/255"
   ]
  },
  {
   "cell_type": "code",
   "execution_count": 27,
   "id": "3aaf1647",
   "metadata": {},
   "outputs": [
    {
     "data": {
      "text/plain": [
       "array([[[[0.60392157, 0.69411765, 0.73333333],\n",
       "         [0.49411765, 0.5372549 , 0.53333333],\n",
       "         [0.41176471, 0.40784314, 0.37254902],\n",
       "         ...,\n",
       "         [0.35686275, 0.37254902, 0.27843137],\n",
       "         [0.34117647, 0.35294118, 0.27843137],\n",
       "         [0.30980392, 0.31764706, 0.2745098 ]],\n",
       "\n",
       "        [[0.54901961, 0.62745098, 0.6627451 ],\n",
       "         [0.56862745, 0.6       , 0.60392157],\n",
       "         [0.49019608, 0.49019608, 0.4627451 ],\n",
       "         ...,\n",
       "         [0.37647059, 0.38823529, 0.30588235],\n",
       "         [0.30196078, 0.31372549, 0.24313725],\n",
       "         [0.27843137, 0.28627451, 0.23921569]],\n",
       "\n",
       "        [[0.54901961, 0.60784314, 0.64313725],\n",
       "         [0.54509804, 0.57254902, 0.58431373],\n",
       "         [0.45098039, 0.45098039, 0.43921569],\n",
       "         ...,\n",
       "         [0.30980392, 0.32156863, 0.25098039],\n",
       "         [0.26666667, 0.2745098 , 0.21568627],\n",
       "         [0.2627451 , 0.27058824, 0.21568627]],\n",
       "\n",
       "        ...,\n",
       "\n",
       "        [[0.68627451, 0.65490196, 0.65098039],\n",
       "         [0.61176471, 0.60392157, 0.62745098],\n",
       "         [0.60392157, 0.62745098, 0.66666667],\n",
       "         ...,\n",
       "         [0.16470588, 0.13333333, 0.14117647],\n",
       "         [0.23921569, 0.20784314, 0.22352941],\n",
       "         [0.36470588, 0.3254902 , 0.35686275]],\n",
       "\n",
       "        [[0.64705882, 0.60392157, 0.50196078],\n",
       "         [0.61176471, 0.59607843, 0.50980392],\n",
       "         [0.62352941, 0.63137255, 0.55686275],\n",
       "         ...,\n",
       "         [0.40392157, 0.36470588, 0.37647059],\n",
       "         [0.48235294, 0.44705882, 0.47058824],\n",
       "         [0.51372549, 0.4745098 , 0.51372549]],\n",
       "\n",
       "        [[0.63921569, 0.58039216, 0.47058824],\n",
       "         [0.61960784, 0.58039216, 0.47843137],\n",
       "         [0.63921569, 0.61176471, 0.52156863],\n",
       "         ...,\n",
       "         [0.56078431, 0.52156863, 0.54509804],\n",
       "         [0.56078431, 0.5254902 , 0.55686275],\n",
       "         [0.56078431, 0.52156863, 0.56470588]]],\n",
       "\n",
       "\n",
       "       [[[1.        , 1.        , 1.        ],\n",
       "         [0.99215686, 0.99215686, 0.99215686],\n",
       "         [0.99215686, 0.99215686, 0.99215686],\n",
       "         ...,\n",
       "         [0.99215686, 0.99215686, 0.99215686],\n",
       "         [0.99215686, 0.99215686, 0.99215686],\n",
       "         [0.99215686, 0.99215686, 0.99215686]],\n",
       "\n",
       "        [[1.        , 1.        , 1.        ],\n",
       "         [1.        , 1.        , 1.        ],\n",
       "         [1.        , 1.        , 1.        ],\n",
       "         ...,\n",
       "         [1.        , 1.        , 1.        ],\n",
       "         [1.        , 1.        , 1.        ],\n",
       "         [1.        , 1.        , 1.        ]],\n",
       "\n",
       "        [[1.        , 1.        , 1.        ],\n",
       "         [0.99607843, 0.99607843, 0.99607843],\n",
       "         [0.99607843, 0.99607843, 0.99607843],\n",
       "         ...,\n",
       "         [0.99607843, 0.99607843, 0.99607843],\n",
       "         [0.99607843, 0.99607843, 0.99607843],\n",
       "         [0.99607843, 0.99607843, 0.99607843]],\n",
       "\n",
       "        ...,\n",
       "\n",
       "        [[0.44313725, 0.47058824, 0.43921569],\n",
       "         [0.43529412, 0.4627451 , 0.43529412],\n",
       "         [0.41176471, 0.43921569, 0.41568627],\n",
       "         ...,\n",
       "         [0.28235294, 0.31764706, 0.31372549],\n",
       "         [0.28235294, 0.31372549, 0.30980392],\n",
       "         [0.28235294, 0.31372549, 0.30980392]],\n",
       "\n",
       "        [[0.43529412, 0.4627451 , 0.43137255],\n",
       "         [0.40784314, 0.43529412, 0.40784314],\n",
       "         [0.38823529, 0.41568627, 0.38431373],\n",
       "         ...,\n",
       "         [0.26666667, 0.29411765, 0.28627451],\n",
       "         [0.2745098 , 0.29803922, 0.29411765],\n",
       "         [0.30588235, 0.32941176, 0.32156863]],\n",
       "\n",
       "        [[0.41568627, 0.44313725, 0.41176471],\n",
       "         [0.38823529, 0.41568627, 0.38431373],\n",
       "         [0.37254902, 0.4       , 0.36862745],\n",
       "         ...,\n",
       "         [0.30588235, 0.33333333, 0.3254902 ],\n",
       "         [0.30980392, 0.33333333, 0.3254902 ],\n",
       "         [0.31372549, 0.3372549 , 0.32941176]]],\n",
       "\n",
       "\n",
       "       [[[0.5254902 , 0.72941176, 0.8745098 ],\n",
       "         [0.51372549, 0.72156863, 0.8627451 ],\n",
       "         [0.50196078, 0.71372549, 0.85490196],\n",
       "         ...,\n",
       "         [0.49803922, 0.70980392, 0.87058824],\n",
       "         [0.49803922, 0.70980392, 0.87058824],\n",
       "         [0.50196078, 0.71372549, 0.8745098 ]],\n",
       "\n",
       "        [[0.52156863, 0.74117647, 0.89411765],\n",
       "         [0.50588235, 0.72941176, 0.87843137],\n",
       "         [0.50196078, 0.72941176, 0.87843137],\n",
       "         ...,\n",
       "         [0.49803922, 0.71764706, 0.87843137],\n",
       "         [0.49803922, 0.71764706, 0.87843137],\n",
       "         [0.50196078, 0.72156863, 0.88235294]],\n",
       "\n",
       "        [[0.50196078, 0.7254902 , 0.88627451],\n",
       "         [0.49803922, 0.71372549, 0.8745098 ],\n",
       "         [0.50196078, 0.71372549, 0.8745098 ],\n",
       "         ...,\n",
       "         [0.49411765, 0.70980392, 0.87058824],\n",
       "         [0.49411765, 0.70980392, 0.87058824],\n",
       "         [0.49411765, 0.70588235, 0.86666667]],\n",
       "\n",
       "        ...,\n",
       "\n",
       "        [[0.68235294, 0.81568627, 0.92156863],\n",
       "         [0.67058824, 0.80784314, 0.89803922],\n",
       "         [0.60784314, 0.74117647, 0.84705882],\n",
       "         ...,\n",
       "         [0.10588235, 0.36862745, 0.53333333],\n",
       "         [0.11372549, 0.37647059, 0.5372549 ],\n",
       "         [0.10980392, 0.36862745, 0.53333333]],\n",
       "\n",
       "        [[0.76078431, 0.86666667, 0.95686275],\n",
       "         [0.74117647, 0.84313725, 0.9372549 ],\n",
       "         [0.62352941, 0.76862745, 0.88235294],\n",
       "         ...,\n",
       "         [0.11764706, 0.37254902, 0.54117647],\n",
       "         [0.11764706, 0.37647059, 0.54509804],\n",
       "         [0.11764706, 0.37254902, 0.54901961]],\n",
       "\n",
       "        [[0.75686275, 0.85098039, 0.92941176],\n",
       "         [0.70980392, 0.81568627, 0.90196078],\n",
       "         [0.65882353, 0.78823529, 0.89019608],\n",
       "         ...,\n",
       "         [0.12156863, 0.36862745, 0.53333333],\n",
       "         [0.1254902 , 0.36862745, 0.5372549 ],\n",
       "         [0.1254902 , 0.36862745, 0.54117647]]],\n",
       "\n",
       "\n",
       "       ...,\n",
       "\n",
       "\n",
       "       [[[0.05098039, 0.09411765, 0.27058824],\n",
       "         [0.05098039, 0.09411765, 0.27058824],\n",
       "         [0.05490196, 0.10196078, 0.2745098 ],\n",
       "         ...,\n",
       "         [0.10196078, 0.17254902, 0.40784314],\n",
       "         [0.10196078, 0.17254902, 0.40784314],\n",
       "         [0.10196078, 0.17254902, 0.40784314]],\n",
       "\n",
       "        [[0.0627451 , 0.10196078, 0.29803922],\n",
       "         [0.0627451 , 0.10196078, 0.29411765],\n",
       "         [0.06666667, 0.10588235, 0.29803922],\n",
       "         ...,\n",
       "         [0.11372549, 0.18431373, 0.43529412],\n",
       "         [0.11372549, 0.18431373, 0.43529412],\n",
       "         [0.11372549, 0.18431373, 0.43529412]],\n",
       "\n",
       "        [[0.07058824, 0.11372549, 0.32156863],\n",
       "         [0.07058824, 0.11764706, 0.31764706],\n",
       "         [0.0745098 , 0.12156863, 0.31764706],\n",
       "         ...,\n",
       "         [0.12941176, 0.2       , 0.45882353],\n",
       "         [0.1254902 , 0.2       , 0.45490196],\n",
       "         [0.1254902 , 0.19607843, 0.45490196]],\n",
       "\n",
       "        ...,\n",
       "\n",
       "        [[0.17254902, 0.19607843, 0.3254902 ],\n",
       "         [0.2745098 , 0.29803922, 0.40784314],\n",
       "         [0.17647059, 0.18823529, 0.25882353],\n",
       "         ...,\n",
       "         [0.15686275, 0.20784314, 0.3254902 ],\n",
       "         [0.11372549, 0.16470588, 0.29019608],\n",
       "         [0.09803922, 0.14117647, 0.28235294]],\n",
       "\n",
       "        [[0.12156863, 0.14509804, 0.24705882],\n",
       "         [0.2627451 , 0.28235294, 0.35294118],\n",
       "         [0.25098039, 0.25098039, 0.31764706],\n",
       "         ...,\n",
       "         [0.16862745, 0.20392157, 0.32156863],\n",
       "         [0.10588235, 0.14117647, 0.25882353],\n",
       "         [0.09411765, 0.12156863, 0.26666667]],\n",
       "\n",
       "        [[0.03921569, 0.05490196, 0.14901961],\n",
       "         [0.08627451, 0.09803922, 0.17647059],\n",
       "         [0.12156863, 0.11764706, 0.18431373],\n",
       "         ...,\n",
       "         [0.16078431, 0.19607843, 0.32156863],\n",
       "         [0.11764706, 0.16862745, 0.29411765],\n",
       "         [0.10980392, 0.16078431, 0.29803922]]],\n",
       "\n",
       "\n",
       "       [[[0.61176471, 0.59607843, 0.58039216],\n",
       "         [0.58823529, 0.56862745, 0.55686275],\n",
       "         [0.94509804, 0.94509804, 0.8745098 ],\n",
       "         ...,\n",
       "         [0.99607843, 1.        , 0.93333333],\n",
       "         [0.99607843, 1.        , 0.93333333],\n",
       "         [0.99607843, 1.        , 0.93333333]],\n",
       "\n",
       "        [[0.54117647, 0.52156863, 0.50196078],\n",
       "         [0.51764706, 0.49019608, 0.49411765],\n",
       "         [0.89411765, 0.89411765, 0.83921569],\n",
       "         ...,\n",
       "         [0.98823529, 1.        , 0.9254902 ],\n",
       "         [0.98823529, 1.        , 0.92156863],\n",
       "         [0.98823529, 1.        , 0.91764706]],\n",
       "\n",
       "        [[0.46666667, 0.42745098, 0.44313725],\n",
       "         [0.50980392, 0.47058824, 0.49019608],\n",
       "         [0.88627451, 0.88627451, 0.83529412],\n",
       "         ...,\n",
       "         [0.98823529, 1.        , 0.9254902 ],\n",
       "         [0.98823529, 1.        , 0.9254902 ],\n",
       "         [0.98823529, 1.        , 0.92941176]],\n",
       "\n",
       "        ...,\n",
       "\n",
       "        [[0.90196078, 0.89803922, 0.81568627],\n",
       "         [0.70588235, 0.70588235, 0.63137255],\n",
       "         [0.28235294, 0.28235294, 0.29019608],\n",
       "         ...,\n",
       "         [0.94901961, 0.94509804, 0.86666667],\n",
       "         [0.94901961, 0.94509804, 0.86666667],\n",
       "         [0.95294118, 0.94901961, 0.87058824]],\n",
       "\n",
       "        [[0.91764706, 0.91372549, 0.83137255],\n",
       "         [0.84705882, 0.84705882, 0.76862745],\n",
       "         [0.48627451, 0.48235294, 0.46666667],\n",
       "         ...,\n",
       "         [0.94901961, 0.95294118, 0.8745098 ],\n",
       "         [0.94901961, 0.95294118, 0.8745098 ],\n",
       "         [0.94901961, 0.95294118, 0.87058824]],\n",
       "\n",
       "        [[0.90196078, 0.89803922, 0.81960784],\n",
       "         [0.87843137, 0.87058824, 0.8       ],\n",
       "         [0.74117647, 0.72941176, 0.69019608],\n",
       "         ...,\n",
       "         [0.94901961, 0.96078431, 0.87843137],\n",
       "         [0.94901961, 0.96078431, 0.87843137],\n",
       "         [0.94901961, 0.96078431, 0.87843137]]],\n",
       "\n",
       "\n",
       "       [[[0.75686275, 0.77254902, 0.76862745],\n",
       "         [0.82745098, 0.83137255, 0.82745098],\n",
       "         [0.80784314, 0.81176471, 0.80784314],\n",
       "         ...,\n",
       "         [0.82745098, 0.83137255, 0.81960784],\n",
       "         [0.83921569, 0.84313725, 0.83137255],\n",
       "         [0.85490196, 0.85882353, 0.84705882]],\n",
       "\n",
       "        [[0.50588235, 0.52156863, 0.51764706],\n",
       "         [0.67843137, 0.69411765, 0.69019608],\n",
       "         [0.56862745, 0.58039216, 0.57647059],\n",
       "         ...,\n",
       "         [0.57647059, 0.59215686, 0.56470588],\n",
       "         [0.59215686, 0.60784314, 0.58039216],\n",
       "         [0.78431373, 0.79215686, 0.76470588]],\n",
       "\n",
       "        [[0.51372549, 0.53333333, 0.52941176],\n",
       "         [0.55686275, 0.58039216, 0.56862745],\n",
       "         [0.50980392, 0.53333333, 0.5254902 ],\n",
       "         ...,\n",
       "         [0.5254902 , 0.55686275, 0.51372549],\n",
       "         [0.51764706, 0.54509804, 0.50588235],\n",
       "         [0.76862745, 0.77254902, 0.74117647]],\n",
       "\n",
       "        ...,\n",
       "\n",
       "        [[0.55294118, 0.58823529, 0.61176471],\n",
       "         [0.56470588, 0.57647059, 0.60392157],\n",
       "         [0.51764706, 0.5372549 , 0.54509804],\n",
       "         ...,\n",
       "         [0.68627451, 0.69803922, 0.7254902 ],\n",
       "         [0.72941176, 0.74117647, 0.77254902],\n",
       "         [0.74117647, 0.75294118, 0.78431373]],\n",
       "\n",
       "        [[0.57647059, 0.6       , 0.61960784],\n",
       "         [0.58431373, 0.60784314, 0.62352941],\n",
       "         [0.58823529, 0.61568627, 0.62745098],\n",
       "         ...,\n",
       "         [0.56078431, 0.58431373, 0.62352941],\n",
       "         [0.54509804, 0.56862745, 0.60392157],\n",
       "         [0.55686275, 0.57647059, 0.59607843]],\n",
       "\n",
       "        [[0.57647059, 0.59607843, 0.60784314],\n",
       "         [0.55294118, 0.58039216, 0.59215686],\n",
       "         [0.56470588, 0.59607843, 0.60784314],\n",
       "         ...,\n",
       "         [0.57254902, 0.6       , 0.63137255],\n",
       "         [0.56470588, 0.59215686, 0.61960784],\n",
       "         [0.55294118, 0.57254902, 0.58431373]]]])"
      ]
     },
     "execution_count": 27,
     "metadata": {},
     "output_type": "execute_result"
    }
   ],
   "source": [
    "x_train"
   ]
  },
  {
   "cell_type": "code",
   "execution_count": 28,
   "id": "830ee1d0",
   "metadata": {},
   "outputs": [
    {
     "data": {
      "text/plain": [
       "array([[[[0.92156863, 0.92156863, 0.92156863],\n",
       "         [0.90588235, 0.90588235, 0.90588235],\n",
       "         [0.90980392, 0.90980392, 0.90980392],\n",
       "         ...,\n",
       "         [0.91372549, 0.91372549, 0.91372549],\n",
       "         [0.91372549, 0.91372549, 0.91372549],\n",
       "         [0.90980392, 0.90980392, 0.90980392]],\n",
       "\n",
       "        [[0.93333333, 0.93333333, 0.93333333],\n",
       "         [0.92156863, 0.92156863, 0.92156863],\n",
       "         [0.92156863, 0.92156863, 0.92156863],\n",
       "         ...,\n",
       "         [0.9254902 , 0.9254902 , 0.9254902 ],\n",
       "         [0.9254902 , 0.9254902 , 0.9254902 ],\n",
       "         [0.92156863, 0.92156863, 0.92156863]],\n",
       "\n",
       "        [[0.92941176, 0.92941176, 0.92941176],\n",
       "         [0.91764706, 0.91764706, 0.91764706],\n",
       "         [0.91764706, 0.91764706, 0.91764706],\n",
       "         ...,\n",
       "         [0.92156863, 0.92156863, 0.92156863],\n",
       "         [0.92156863, 0.92156863, 0.92156863],\n",
       "         [0.91764706, 0.91764706, 0.91764706]],\n",
       "\n",
       "        ...,\n",
       "\n",
       "        [[0.34117647, 0.38823529, 0.34901961],\n",
       "         [0.16862745, 0.2       , 0.14509804],\n",
       "         [0.0745098 , 0.09019608, 0.04313725],\n",
       "         ...,\n",
       "         [0.6627451 , 0.72156863, 0.70196078],\n",
       "         [0.71372549, 0.77254902, 0.75686275],\n",
       "         [0.7372549 , 0.79215686, 0.78823529]],\n",
       "\n",
       "        [[0.32156863, 0.37647059, 0.32156863],\n",
       "         [0.18039216, 0.22352941, 0.14117647],\n",
       "         [0.14117647, 0.17254902, 0.08627451],\n",
       "         ...,\n",
       "         [0.68235294, 0.74117647, 0.71764706],\n",
       "         [0.7254902 , 0.78431373, 0.76862745],\n",
       "         [0.73333333, 0.79215686, 0.78431373]],\n",
       "\n",
       "        [[0.33333333, 0.39607843, 0.3254902 ],\n",
       "         [0.24313725, 0.29411765, 0.18823529],\n",
       "         [0.22745098, 0.2627451 , 0.14901961],\n",
       "         ...,\n",
       "         [0.65882353, 0.71764706, 0.69803922],\n",
       "         [0.70588235, 0.76470588, 0.74901961],\n",
       "         [0.72941176, 0.78431373, 0.78039216]]],\n",
       "\n",
       "\n",
       "       [[[0.61960784, 0.74509804, 0.87058824],\n",
       "         [0.61960784, 0.73333333, 0.85490196],\n",
       "         [0.54509804, 0.65098039, 0.76078431],\n",
       "         ...,\n",
       "         [0.89411765, 0.90588235, 0.91764706],\n",
       "         [0.92941176, 0.9372549 , 0.95294118],\n",
       "         [0.93333333, 0.94509804, 0.96470588]],\n",
       "\n",
       "        [[0.66666667, 0.78431373, 0.89803922],\n",
       "         [0.6745098 , 0.78039216, 0.88627451],\n",
       "         [0.59215686, 0.69019608, 0.78823529],\n",
       "         ...,\n",
       "         [0.90980392, 0.90980392, 0.9254902 ],\n",
       "         [0.96470588, 0.96470588, 0.98039216],\n",
       "         [0.96470588, 0.96862745, 0.98431373]],\n",
       "\n",
       "        [[0.68235294, 0.78823529, 0.88235294],\n",
       "         [0.69019608, 0.78431373, 0.87058824],\n",
       "         [0.61568627, 0.70196078, 0.78039216],\n",
       "         ...,\n",
       "         [0.90196078, 0.89803922, 0.90980392],\n",
       "         [0.98039216, 0.97647059, 0.98431373],\n",
       "         [0.96078431, 0.95686275, 0.96862745]],\n",
       "\n",
       "        ...,\n",
       "\n",
       "        [[0.12156863, 0.15686275, 0.17647059],\n",
       "         [0.11764706, 0.15294118, 0.17254902],\n",
       "         [0.10196078, 0.1372549 , 0.15686275],\n",
       "         ...,\n",
       "         [0.14509804, 0.15686275, 0.18039216],\n",
       "         [0.03529412, 0.05098039, 0.05490196],\n",
       "         [0.01568627, 0.02745098, 0.01960784]],\n",
       "\n",
       "        [[0.09019608, 0.13333333, 0.15294118],\n",
       "         [0.10588235, 0.14901961, 0.16862745],\n",
       "         [0.09803922, 0.14117647, 0.16078431],\n",
       "         ...,\n",
       "         [0.0745098 , 0.07843137, 0.09411765],\n",
       "         [0.01568627, 0.02352941, 0.01176471],\n",
       "         [0.01960784, 0.02745098, 0.01176471]],\n",
       "\n",
       "        [[0.10980392, 0.16078431, 0.18431373],\n",
       "         [0.11764706, 0.16862745, 0.19607843],\n",
       "         [0.1254902 , 0.17647059, 0.20392157],\n",
       "         ...,\n",
       "         [0.01960784, 0.02352941, 0.03137255],\n",
       "         [0.01568627, 0.01960784, 0.01176471],\n",
       "         [0.02745098, 0.03137255, 0.02745098]]],\n",
       "\n",
       "\n",
       "       [[[1.        , 1.        , 0.98431373],\n",
       "         [0.98823529, 0.99215686, 0.97254902],\n",
       "         [0.98431373, 0.98823529, 0.96862745],\n",
       "         ...,\n",
       "         [0.99607843, 1.        , 0.98039216],\n",
       "         [0.99215686, 0.99607843, 0.97647059],\n",
       "         [0.99607843, 1.        , 0.98039216]],\n",
       "\n",
       "        [[0.98431373, 0.99215686, 0.97254902],\n",
       "         [0.97254902, 0.97647059, 0.95686275],\n",
       "         [0.82352941, 0.81568627, 0.80392157],\n",
       "         ...,\n",
       "         [0.98431373, 0.99215686, 0.97254902],\n",
       "         [0.98431373, 0.98823529, 0.96862745],\n",
       "         [0.98823529, 0.99215686, 0.97254902]],\n",
       "\n",
       "        [[0.98039216, 0.99215686, 0.97254902],\n",
       "         [0.97254902, 0.97647059, 0.96078431],\n",
       "         [0.74509804, 0.71764706, 0.70980392],\n",
       "         ...,\n",
       "         [0.98823529, 0.99607843, 0.97647059],\n",
       "         [0.98431373, 0.98823529, 0.96862745],\n",
       "         [0.98823529, 0.98823529, 0.97254902]],\n",
       "\n",
       "        ...,\n",
       "\n",
       "        [[0.76470588, 0.69411765, 0.65098039],\n",
       "         [0.7254902 , 0.65882353, 0.61568627],\n",
       "         [0.70588235, 0.63529412, 0.59215686],\n",
       "         ...,\n",
       "         [0.63529412, 0.57254902, 0.52941176],\n",
       "         [0.6745098 , 0.60392157, 0.56078431],\n",
       "         [0.69803922, 0.61176471, 0.57647059]],\n",
       "\n",
       "        [[0.8       , 0.69411765, 0.61568627],\n",
       "         [0.78431373, 0.67843137, 0.6       ],\n",
       "         [0.78431373, 0.67843137, 0.6       ],\n",
       "         ...,\n",
       "         [0.67058824, 0.57647059, 0.50980392],\n",
       "         [0.70588235, 0.61176471, 0.54509804],\n",
       "         [0.73333333, 0.63137255, 0.56862745]],\n",
       "\n",
       "        [[0.81176471, 0.69803922, 0.61568627],\n",
       "         [0.81568627, 0.70588235, 0.61960784],\n",
       "         [0.81568627, 0.70196078, 0.61960784],\n",
       "         ...,\n",
       "         [0.74901961, 0.63921569, 0.56470588],\n",
       "         [0.77254902, 0.66666667, 0.59215686],\n",
       "         [0.79607843, 0.69019608, 0.61568627]]],\n",
       "\n",
       "\n",
       "       ...,\n",
       "\n",
       "\n",
       "       [[[0.45490196, 0.64705882, 0.96470588],\n",
       "         [0.45098039, 0.63921569, 0.95294118],\n",
       "         [0.45490196, 0.64705882, 0.96078431],\n",
       "         ...,\n",
       "         [0.39607843, 0.58823529, 0.87058824],\n",
       "         [0.38823529, 0.58431373, 0.8745098 ],\n",
       "         [0.37647059, 0.56862745, 0.87058824]],\n",
       "\n",
       "        [[0.35686275, 0.57647059, 0.89803922],\n",
       "         [0.35686275, 0.57254902, 0.89019608],\n",
       "         [0.36862745, 0.58431373, 0.90588235],\n",
       "         ...,\n",
       "         [0.32156863, 0.53333333, 0.81568627],\n",
       "         [0.30980392, 0.5254902 , 0.81568627],\n",
       "         [0.31764706, 0.52941176, 0.82745098]],\n",
       "\n",
       "        [[0.28627451, 0.5254902 , 0.83137255],\n",
       "         [0.29411765, 0.53333333, 0.83529412],\n",
       "         [0.29803922, 0.5372549 , 0.83921569],\n",
       "         ...,\n",
       "         [0.3372549 , 0.55686275, 0.82352941],\n",
       "         [0.33333333, 0.55294118, 0.82352941],\n",
       "         [0.34117647, 0.56078431, 0.84705882]],\n",
       "\n",
       "        ...,\n",
       "\n",
       "        [[0.12156863, 0.24313725, 0.47843137],\n",
       "         [0.08627451, 0.16862745, 0.39215686],\n",
       "         [0.21568627, 0.29411765, 0.49803922],\n",
       "         ...,\n",
       "         [0.2627451 , 0.40392157, 0.57647059],\n",
       "         [0.23529412, 0.38039216, 0.55686275],\n",
       "         [0.25490196, 0.41176471, 0.59607843]],\n",
       "\n",
       "        [[0.15294118, 0.28627451, 0.51764706],\n",
       "         [0.12941176, 0.22745098, 0.45490196],\n",
       "         [0.08627451, 0.18823529, 0.40784314],\n",
       "         ...,\n",
       "         [0.27843137, 0.42352941, 0.6       ],\n",
       "         [0.27058824, 0.42352941, 0.60392157],\n",
       "         [0.24705882, 0.40784314, 0.59607843]],\n",
       "\n",
       "        [[0.09803922, 0.25098039, 0.4745098 ],\n",
       "         [0.14901961, 0.2745098 , 0.50196078],\n",
       "         [0.10980392, 0.24313725, 0.46666667],\n",
       "         ...,\n",
       "         [0.2745098 , 0.42745098, 0.60784314],\n",
       "         [0.24313725, 0.40392157, 0.58823529],\n",
       "         [0.20784314, 0.37647059, 0.56862745]]],\n",
       "\n",
       "\n",
       "       [[[0.55294118, 0.63921569, 0.77254902],\n",
       "         [0.58823529, 0.65490196, 0.77647059],\n",
       "         [0.62352941, 0.66666667, 0.7372549 ],\n",
       "         ...,\n",
       "         [0.7372549 , 0.78823529, 0.88235294],\n",
       "         [0.72941176, 0.77647059, 0.8745098 ],\n",
       "         [0.71764706, 0.76862745, 0.88235294]],\n",
       "\n",
       "        [[0.58823529, 0.67058824, 0.79215686],\n",
       "         [0.62352941, 0.68627451, 0.80392157],\n",
       "         [0.67058824, 0.70588235, 0.80392157],\n",
       "         ...,\n",
       "         [0.75686275, 0.8       , 0.90196078],\n",
       "         [0.74509804, 0.78823529, 0.89019608],\n",
       "         [0.73333333, 0.77647059, 0.89803922]],\n",
       "\n",
       "        [[0.64705882, 0.69803922, 0.81176471],\n",
       "         [0.65098039, 0.69411765, 0.8       ],\n",
       "         [0.65098039, 0.69803922, 0.83529412],\n",
       "         ...,\n",
       "         [0.77254902, 0.80784314, 0.90980392],\n",
       "         [0.76470588, 0.8       , 0.90196078],\n",
       "         [0.74901961, 0.79215686, 0.90588235]],\n",
       "\n",
       "        ...,\n",
       "\n",
       "        [[0.22745098, 0.22352941, 0.25490196],\n",
       "         [0.23921569, 0.23529412, 0.26666667],\n",
       "         [0.24313725, 0.23921569, 0.27058824],\n",
       "         ...,\n",
       "         [0.55686275, 0.51372549, 0.40784314],\n",
       "         [0.67843137, 0.56862745, 0.41568627],\n",
       "         [0.59607843, 0.49411765, 0.34901961]],\n",
       "\n",
       "        [[0.22352941, 0.21568627, 0.25490196],\n",
       "         [0.23529412, 0.23529412, 0.27058824],\n",
       "         [0.24313725, 0.24313725, 0.27843137],\n",
       "         ...,\n",
       "         [0.67058824, 0.58823529, 0.43529412],\n",
       "         [0.56862745, 0.46666667, 0.3372549 ],\n",
       "         [0.55686275, 0.47843137, 0.35294118]],\n",
       "\n",
       "        [[0.22352941, 0.21176471, 0.25490196],\n",
       "         [0.23529412, 0.23137255, 0.27058824],\n",
       "         [0.23137255, 0.23921569, 0.2745098 ],\n",
       "         ...,\n",
       "         [0.61568627, 0.51764706, 0.36862745],\n",
       "         [0.49019608, 0.40784314, 0.29019608],\n",
       "         [0.66666667, 0.61568627, 0.4745098 ]]],\n",
       "\n",
       "\n",
       "       [[[0.68627451, 0.70588235, 0.68235294],\n",
       "         [0.69019608, 0.70980392, 0.68627451],\n",
       "         [0.70980392, 0.72941176, 0.70588235],\n",
       "         ...,\n",
       "         [0.75686275, 0.81176471, 0.82352941],\n",
       "         [0.74509804, 0.8       , 0.81176471],\n",
       "         [0.7372549 , 0.79215686, 0.80392157]],\n",
       "\n",
       "        [[0.69411765, 0.71372549, 0.69019608],\n",
       "         [0.70196078, 0.72156863, 0.69803922],\n",
       "         [0.71764706, 0.7372549 , 0.71372549],\n",
       "         ...,\n",
       "         [0.76862745, 0.82352941, 0.83529412],\n",
       "         [0.75294118, 0.80784314, 0.81960784],\n",
       "         [0.74901961, 0.80392157, 0.81568627]],\n",
       "\n",
       "        [[0.69019608, 0.70980392, 0.68627451],\n",
       "         [0.69411765, 0.71372549, 0.69019608],\n",
       "         [0.71372549, 0.73333333, 0.70980392],\n",
       "         ...,\n",
       "         [0.76078431, 0.81568627, 0.82745098],\n",
       "         [0.74901961, 0.80392157, 0.81568627],\n",
       "         [0.74117647, 0.79607843, 0.80784314]],\n",
       "\n",
       "        ...,\n",
       "\n",
       "        [[0.47843137, 0.4745098 , 0.50588235],\n",
       "         [0.45882353, 0.4627451 , 0.50588235],\n",
       "         [0.44705882, 0.4627451 , 0.50980392],\n",
       "         ...,\n",
       "         [0.22745098, 0.28627451, 0.35686275],\n",
       "         [0.31764706, 0.38039216, 0.4627451 ],\n",
       "         [0.38823529, 0.4627451 , 0.55294118]],\n",
       "\n",
       "        [[0.45490196, 0.45098039, 0.48235294],\n",
       "         [0.43137255, 0.43529412, 0.4745098 ],\n",
       "         [0.41960784, 0.43529412, 0.48235294],\n",
       "         ...,\n",
       "         [0.22352941, 0.2745098 , 0.34509804],\n",
       "         [0.30588235, 0.36470588, 0.44313725],\n",
       "         [0.39215686, 0.45882353, 0.54901961]],\n",
       "\n",
       "        [[0.44313725, 0.43921569, 0.46666667],\n",
       "         [0.41568627, 0.41960784, 0.45882353],\n",
       "         [0.41176471, 0.42745098, 0.4745098 ],\n",
       "         ...,\n",
       "         [0.22352941, 0.26666667, 0.33333333],\n",
       "         [0.27843137, 0.33333333, 0.40392157],\n",
       "         [0.36470588, 0.43137255, 0.51372549]]]])"
      ]
     },
     "execution_count": 28,
     "metadata": {},
     "output_type": "execute_result"
    }
   ],
   "source": [
    "x_test"
   ]
  },
  {
   "cell_type": "code",
   "execution_count": 33,
   "id": "3c37755c",
   "metadata": {},
   "outputs": [],
   "source": [
    "cnn = models.Sequential([\n",
    "    layers.Conv2D(filters=32, kernel_size=(3, 3), activation='relu', input_shape=(32, 32, 3)),\n",
    "    layers.MaxPooling2D((2, 2)),\n",
    "    \n",
    "    layers.Conv2D(filters=64, kernel_size=(3, 3), activation='relu'),\n",
    "    layers.MaxPooling2D((2, 2)),\n",
    "    \n",
    "    layers.Flatten(),\n",
    "    layers.Dense(64, activation='relu'),\n",
    "    layers.Dense(10, activation='softmax')\n",
    "])"
   ]
  },
  {
   "cell_type": "code",
   "execution_count": 34,
   "id": "e740afdd",
   "metadata": {},
   "outputs": [],
   "source": [
    "cnn.compile(optimizer='adam',\n",
    "              loss='sparse_categorical_crossentropy',\n",
    "              metrics=['accuracy'])"
   ]
  },
  {
   "cell_type": "code",
   "execution_count": 35,
   "id": "ba16400c",
   "metadata": {},
   "outputs": [
    {
     "name": "stdout",
     "output_type": "stream",
     "text": [
      "Epoch 1/10\n",
      "32/32 [==============================] - 1s 16ms/step - loss: 0.7625 - accuracy: 0.6346\n",
      "Epoch 2/10\n",
      "32/32 [==============================] - 0s 15ms/step - loss: 0.4626 - accuracy: 0.7898\n",
      "Epoch 3/10\n",
      "32/32 [==============================] - 0s 15ms/step - loss: 0.4211 - accuracy: 0.8202\n",
      "Epoch 4/10\n",
      "32/32 [==============================] - 1s 16ms/step - loss: 0.4097 - accuracy: 0.8134\n",
      "Epoch 5/10\n",
      "32/32 [==============================] - 0s 15ms/step - loss: 0.4212 - accuracy: 0.8143\n",
      "Epoch 6/10\n",
      "32/32 [==============================] - 0s 15ms/step - loss: 0.3553 - accuracy: 0.8585\n",
      "Epoch 7/10\n",
      "32/32 [==============================] - 0s 16ms/step - loss: 0.3035 - accuracy: 0.8654\n",
      "Epoch 8/10\n",
      "32/32 [==============================] - 1s 16ms/step - loss: 0.3366 - accuracy: 0.8556\n",
      "Epoch 9/10\n",
      "32/32 [==============================] - 1s 19ms/step - loss: 0.2813 - accuracy: 0.8811\n",
      "Epoch 10/10\n",
      "32/32 [==============================] - 1s 16ms/step - loss: 0.3018 - accuracy: 0.8723\n"
     ]
    },
    {
     "data": {
      "text/plain": [
       "<tensorflow.python.keras.callbacks.History at 0x148235b3d30>"
      ]
     },
     "execution_count": 35,
     "metadata": {},
     "output_type": "execute_result"
    }
   ],
   "source": [
    "cnn.fit(x_train, y_train, epochs=10)"
   ]
  },
  {
   "cell_type": "code",
   "execution_count": 37,
   "id": "641c62b7",
   "metadata": {},
   "outputs": [
    {
     "name": "stdout",
     "output_type": "stream",
     "text": [
      "7/7 [==============================] - 0s 5ms/step - loss: 0.4258 - accuracy: 0.7814\n"
     ]
    },
    {
     "data": {
      "text/plain": [
       "[0.42575716972351074, 0.7813953757286072]"
      ]
     },
     "execution_count": 37,
     "metadata": {},
     "output_type": "execute_result"
    }
   ],
   "source": [
    "cnn.evaluate(x_test,y_test)"
   ]
  },
  {
   "cell_type": "code",
   "execution_count": 42,
   "id": "43705d9d",
   "metadata": {},
   "outputs": [
    {
     "data": {
      "text/plain": [
       "array([[1.83254227e-01, 8.16243112e-01, 9.15691489e-05, 1.88424656e-05,\n",
       "        5.77200590e-05, 7.69632679e-05, 8.53346955e-06, 4.11214787e-05,\n",
       "        1.36329938e-04, 7.16160503e-05],\n",
       "       [5.99433005e-01, 3.97401005e-01, 7.43753044e-04, 1.08752378e-04,\n",
       "        3.75013449e-04, 4.56904119e-04, 6.49714711e-05, 2.26798336e-04,\n",
       "        7.29375926e-04, 4.60445939e-04],\n",
       "       [2.74731349e-02, 9.71898675e-01, 8.88469367e-05, 4.20453180e-05,\n",
       "        6.93680995e-05, 1.09736335e-04, 1.40519978e-05, 7.51923726e-05,\n",
       "        1.39571261e-04, 8.93323304e-05],\n",
       "       [9.05428454e-03, 9.90527630e-01, 6.16832258e-05, 4.36444170e-05,\n",
       "        4.07199223e-05, 7.26214421e-05, 1.00259213e-05, 4.85524033e-05,\n",
       "        8.43370362e-05, 5.65518094e-05],\n",
       "       [2.75450528e-01, 7.22852409e-01, 3.27134127e-04, 6.97724026e-05,\n",
       "        2.19684225e-04, 2.52231344e-04, 4.14941642e-05, 1.31915978e-04,\n",
       "        4.06615320e-04, 2.48187542e-04]], dtype=float32)"
      ]
     },
     "execution_count": 42,
     "metadata": {},
     "output_type": "execute_result"
    }
   ],
   "source": [
    "y_pred = cnn.predict(x_test)\n",
    "y_pred[:5]"
   ]
  },
  {
   "cell_type": "code",
   "execution_count": 44,
   "id": "dbed80ea",
   "metadata": {},
   "outputs": [
    {
     "data": {
      "text/plain": [
       "[1, 0, 1, 1, 1]"
      ]
     },
     "execution_count": 44,
     "metadata": {},
     "output_type": "execute_result"
    }
   ],
   "source": [
    "y_classes = [np.argmax(element) for element in y_pred]\n",
    "y_classes[:5]"
   ]
  },
  {
   "cell_type": "code",
   "execution_count": 45,
   "id": "ea7c129b",
   "metadata": {},
   "outputs": [
    {
     "data": {
      "text/plain": [
       "array([0, 0, 1, 1, 0], dtype=uint8)"
      ]
     },
     "execution_count": 45,
     "metadata": {},
     "output_type": "execute_result"
    }
   ],
   "source": [
    "y_test[:5]"
   ]
  },
  {
   "cell_type": "code",
   "execution_count": 46,
   "id": "8ea4237c",
   "metadata": {},
   "outputs": [
    {
     "name": "stdout",
     "output_type": "stream",
     "text": [
      "Model: \"sequential_1\"\n",
      "_________________________________________________________________\n",
      "Layer (type)                 Output Shape              Param #   \n",
      "=================================================================\n",
      "conv2d_2 (Conv2D)            (None, 30, 30, 32)        896       \n",
      "_________________________________________________________________\n",
      "max_pooling2d_2 (MaxPooling2 (None, 15, 15, 32)        0         \n",
      "_________________________________________________________________\n",
      "conv2d_3 (Conv2D)            (None, 13, 13, 64)        18496     \n",
      "_________________________________________________________________\n",
      "max_pooling2d_3 (MaxPooling2 (None, 6, 6, 64)          0         \n",
      "_________________________________________________________________\n",
      "flatten_1 (Flatten)          (None, 2304)              0         \n",
      "_________________________________________________________________\n",
      "dense_2 (Dense)              (None, 64)                147520    \n",
      "_________________________________________________________________\n",
      "dense_3 (Dense)              (None, 10)                650       \n",
      "=================================================================\n",
      "Total params: 167,562\n",
      "Trainable params: 167,562\n",
      "Non-trainable params: 0\n",
      "_________________________________________________________________\n"
     ]
    }
   ],
   "source": [
    "cnn.summary()"
   ]
  },
  {
   "cell_type": "code",
   "execution_count": 47,
   "id": "8ca6b92e",
   "metadata": {},
   "outputs": [],
   "source": [
    "import os.path"
   ]
  },
  {
   "cell_type": "code",
   "execution_count": 49,
   "id": "e13fadde",
   "metadata": {},
   "outputs": [],
   "source": [
    "if os.path.isfile('New folder (3)\\m.h5') is False:\n",
    "    cnn.save('New folder (3)\\m.h5')"
   ]
  },
  {
   "cell_type": "code",
   "execution_count": 50,
   "id": "bcea2a7b",
   "metadata": {},
   "outputs": [],
   "source": [
    "from tensorflow.keras.models import load_model"
   ]
  },
  {
   "cell_type": "code",
   "execution_count": 51,
   "id": "a943e18a",
   "metadata": {},
   "outputs": [],
   "source": [
    "new_model = load_model('New folder (3)\\m.h5')"
   ]
  },
  {
   "cell_type": "code",
   "execution_count": 52,
   "id": "0c6a5e91",
   "metadata": {},
   "outputs": [
    {
     "name": "stdout",
     "output_type": "stream",
     "text": [
      "Model: \"sequential_1\"\n",
      "_________________________________________________________________\n",
      "Layer (type)                 Output Shape              Param #   \n",
      "=================================================================\n",
      "conv2d_2 (Conv2D)            (None, 30, 30, 32)        896       \n",
      "_________________________________________________________________\n",
      "max_pooling2d_2 (MaxPooling2 (None, 15, 15, 32)        0         \n",
      "_________________________________________________________________\n",
      "conv2d_3 (Conv2D)            (None, 13, 13, 64)        18496     \n",
      "_________________________________________________________________\n",
      "max_pooling2d_3 (MaxPooling2 (None, 6, 6, 64)          0         \n",
      "_________________________________________________________________\n",
      "flatten_1 (Flatten)          (None, 2304)              0         \n",
      "_________________________________________________________________\n",
      "dense_2 (Dense)              (None, 64)                147520    \n",
      "_________________________________________________________________\n",
      "dense_3 (Dense)              (None, 10)                650       \n",
      "=================================================================\n",
      "Total params: 167,562\n",
      "Trainable params: 167,562\n",
      "Non-trainable params: 0\n",
      "_________________________________________________________________\n"
     ]
    }
   ],
   "source": [
    "new_model.summary()"
   ]
  },
  {
   "cell_type": "code",
   "execution_count": null,
   "id": "82589cb7",
   "metadata": {},
   "outputs": [],
   "source": []
  }
 ],
 "metadata": {
  "kernelspec": {
   "display_name": "Python 3",
   "language": "python",
   "name": "python3"
  },
  "language_info": {
   "codemirror_mode": {
    "name": "ipython",
    "version": 3
   },
   "file_extension": ".py",
   "mimetype": "text/x-python",
   "name": "python",
   "nbconvert_exporter": "python",
   "pygments_lexer": "ipython3",
   "version": "3.8.8"
  }
 },
 "nbformat": 4,
 "nbformat_minor": 5
}
